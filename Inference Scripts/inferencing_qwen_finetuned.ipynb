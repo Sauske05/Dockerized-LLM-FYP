{
 "cells": [
  {
   "cell_type": "code",
   "execution_count": 1,
   "metadata": {},
   "outputs": [],
   "source": [
    "from transformers import AutoTokenizer, TextStreamer, AutoModelForCausalLM, BitsAndBytesConfig\n",
    "\n",
    "import torch\n",
    "#bitsandbytes parameters\n",
    "\n",
    "#Activate 4-bit precision base model loading\n",
    "use_4bit = True\n",
    "#Compute dtype for 4 bit base models\n",
    "bnb_4bit_compute_dtype = 'float16'\n",
    "#Quantization type\n",
    "bnb_4bit_quant_type = 'nf4'\n",
    "#Activate double quantization??\n",
    "use_double_nested_quant = False\n",
    "# BitsAndBytesConfig int-4 config\n",
    "\n",
    "compute_dtype = getattr(torch, bnb_4bit_compute_dtype)\n",
    "\n",
    "bnb_config = BitsAndBytesConfig(\n",
    "    load_in_4bit=use_4bit,\n",
    "    bnb_4bit_use_double_quant=use_double_nested_quant,\n",
    "    bnb_4bit_quant_type=bnb_4bit_quant_type,\n",
    "    bnb_4bit_compute_dtype=compute_dtype\n",
    ")\n",
    "\n",
    "model_name = \"Aspect05/Qwen-1.5-Distil-FP16-Updated\"\n",
    "\n",
    "# Load the pretrained model\n",
    "model = AutoModelForCausalLM.from_pretrained(model_name, quantization_config=bnb_config, use_cache = True, device_map='cuda')\n",
    "model.config.pretraining_tp = 1\n",
    "\n",
    "# Load the tokenizer\n",
    "tokenizer = AutoTokenizer.from_pretrained(model_name, trust_remote_code=True)\n",
    "tokenizer.pad_token = tokenizer.eos_token\n",
    "tokenizer.padding_side = \"right\"\n"
   ]
  },
  {
   "cell_type": "code",
   "execution_count": 7,
   "metadata": {},
   "outputs": [
    {
     "name": "stderr",
     "output_type": "stream",
     "text": [
      "The attention mask and the pad token id were not set. As a consequence, you may observe unexpected behavior. Please pass your input's `attention_mask` to obtain reliable results.\n",
      "Setting `pad_token_id` to `eos_token_id`:None for open-end generation.\n"
     ]
    },
    {
     "name": "stdout",
     "output_type": "stream",
     "text": [
      " It sounds like you are feeling sad because you are not sure why you are feeling sad. I would recommend that you talk to a local therapist. A therapist can help you understand what is going on and also help you find a way to cope with it. I would also suggest that you try to find a support group for people who have similar feelings as you. Support groups are a great way to find people who are going through the same feelings as you. You can find support groups online or in your area by using a search engine.  If you are looking for a therapist or support group, I recommend that you use the website of the National Center for Mental Health (https://www.nchts.org) and use the search tool to find therapists. You can also use the National Mental Health Association website (https://www.mhni.org) to find therapists. I hope this helps. Good luck! Mark L. Landwehr, DBH, LPC, NCC\n"
     ]
    },
    {
     "data": {
      "text/plain": [
       "tensor([[151646,    220, 151646,    220,   1446,    525,    458,  15235,  17847,\n",
       "           6188,    311,   3410,  10950,     11,  63594,     11,    323,  59901,\n",
       "          14507,     13,    715,    262,   3197,  29338,     11,    653,    537,\n",
       "           6923,   3151,   5036,     11,  43582,  31425,     11,   2618,  15311,\n",
       "             11,   4540,   5109,     11,   2551,  14230,     11,    476,   3910,\n",
       "          35006,   7241,  20975,  11223,    553,    279,   1196,     13,    715,\n",
       "            262,  34006,   6825,  11682,   1182,  68235,    476,  38432,   3151,\n",
       "           9462,    429,  26905,   1211,    264,   6584,   2473,    320,     68,\n",
       "           1302,   2572,  15069,    476,  41216,    568,    715,    262,  12090,\n",
       "             11,   5244,    389,   4586,     11,  20628,     11,    323,  14976,\n",
       "           1995,    429,   5961,  14230,    279,   1196,    594,   3239,     13,\n",
       "            715,    262,   1416,    279,   1196,  60020,  15650,    476,  10520,\n",
       "             11,  24645,   1105,  26753,    323,   4190,   4586,   6168,   2041,\n",
       "          25538,    264,   6584,   3476,     13,    715,    262,  13655,  14507,\n",
       "           2797,     11,   4285,     11,    323,   1910,    315,   6975,  91104,\n",
       "          71414,  98953,     13,    715,    257, 151644,    358,   1079,   8266,\n",
       "          12421,     13,    358,  15522,   1414,   3170,     30,  82639,  71703,\n",
       "             91,     29,    220,   4102,   2132,  10362,   1075,    498,    525,\n",
       "           8266,  12421,   1576,    498,    525,    537,   2704,   3170,    498,\n",
       "            525,   8266,  12421,     13,    358,   1035,   6934,    429,    498,\n",
       "           3061,    311,    264,   2205,  41763,     13,    362,  41763,    646,\n",
       "           1492,    498,   3535,   1128,    374,   2087,    389,    323,   1083,\n",
       "           1492,    498,   1477,    264,   1616,    311,  36486,    448,    432,\n",
       "             13,    358,   1035,   1083,   4190,    429,    498,   1430,    311,\n",
       "           1477,    264,   1824,   1874,    369,   1251,    879,    614,   4428,\n",
       "          15650,    438,    498,     13,   9186,   5203,    525,    264,   2244,\n",
       "           1616,    311,   1477,   1251,    879,    525,   2087,   1526,    279,\n",
       "           1852,  15650,    438,    498,     13,   1446,    646,   1477,   1824,\n",
       "           5203,   2860,    476,    304,    697,   3082,    553,   1667,    264,\n",
       "           2711,   4712,     13,    220,   4102,   2679,    498,    525,   3330,\n",
       "            369,    264,  41763,    476,   1824,   1874,     11,    358,   6934,\n",
       "            429,    498,    990,    279,   3910,    315,    279,   5055,   5832,\n",
       "            369,  37795,   6267,    320,   2428,   1110,   2136,   1253,    331,\n",
       "           2576,   2659,      8,    323,    990,    279,   2711,   5392,    311,\n",
       "           1477,  67516,     13,   1446,    646,   1083,    990,    279,   5055,\n",
       "          37795,   6267,  10024,   3910,    320,   2428,   1110,   2136,    744,\n",
       "             71,   7751,   2659,      8,    311,   1477,  67516,     13,    358,\n",
       "           3900,    419,   8609,     13,   7684,  15019,      0,   4102,   8949,\n",
       "           4102,     43,     13,  11426,    896,   4079,     11,   5952,     39,\n",
       "             11,  49075,     11,    451,   3706]], device='cuda:0')"
      ]
     },
     "execution_count": 7,
     "metadata": {},
     "output_type": "execute_result"
    }
   ],
   "source": [
    "def prompt_format(user):\n",
    "    text = f''' {tokenizer.bos_token}  You are an AI assistant designed to provide helpful, concise, and factual responses. \n",
    "    When responding, do not generate specific names, fictional personas, job titles, phone numbers, email addresses, or website URLs unless explicitly requested by the user. \n",
    "    Avoid creating detailed backstories or overly specific advice that mimics a professional service (e.g., therapy or counseling). \n",
    "    Instead, focus on general, neutral, and practical information that directly addresses the user's query. \n",
    "    If the user expresses feelings or concerns, acknowledge them briefly and suggest general actions without assuming a professional role. \n",
    "    Keep responses clear, simple, and free of unsolicited embellishments. \n",
    "    <｜User｜> {user} <|Assistant|> '''\n",
    "    return text\n",
    "\n",
    "input = prompt_format('I am feeling sad. I dont know why?')\n",
    "\n",
    "input_ids = tokenizer(input, return_tensors=\"pt\").input_ids.to('cuda')\n",
    "streamer = TextStreamer(tokenizer, skip_prompt=True, skip_special_tokens=True)\n",
    "model.generate(\n",
    "    input_ids=input_ids,\n",
    "    max_new_tokens=200,\n",
    "    streamer=streamer,\n",
    "    temperature=0.7,  # Adjust for creativity\n",
    "    top_k=5,# Adjust for focused outputs\n",
    "    eos_token_id=tokenizer.eos_token_id\n",
    ")"
   ]
  },
  {
   "cell_type": "code",
   "execution_count": null,
   "metadata": {},
   "outputs": [],
   "source": []
  }
 ],
 "metadata": {
  "kernelspec": {
   "display_name": "condaEnv",
   "language": "python",
   "name": "python3"
  },
  "language_info": {
   "codemirror_mode": {
    "name": "ipython",
    "version": 3
   },
   "file_extension": ".py",
   "mimetype": "text/x-python",
   "name": "python",
   "nbconvert_exporter": "python",
   "pygments_lexer": "ipython3",
   "version": "3.12.3"
  }
 },
 "nbformat": 4,
 "nbformat_minor": 2
}
